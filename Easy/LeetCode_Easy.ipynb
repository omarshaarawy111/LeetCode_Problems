{
 "cells": [
  {
   "cell_type": "code",
   "execution_count": 1,
   "metadata": {},
   "outputs": [
    {
     "data": {
      "text/plain": [
       "[0, 1]"
      ]
     },
     "execution_count": 1,
     "metadata": {},
     "output_type": "execute_result"
    }
   ],
   "source": [
    "#Leetcode Easy\n",
    "#Leetcode example 1 \n",
    "#method 1\n",
    "#this is O(n2) solution we can optimize our code to be O(n) \n",
    "\n",
    "class Solution(object):   \n",
    "    def twoSum(self , nums , target):\n",
    "        \"\"\"\n",
    "        :type nums: List[int]\n",
    "        :type target: int\n",
    "        :rtype: List[int]\n",
    "        \"\"\"\n",
    "        result= []\n",
    "        if not 2 <= len(nums) <= pow(10,4) :\n",
    "            return False\n",
    "\n",
    "        for i in range(0,len(nums)) :\n",
    "            if not  pow(-10,9) <= nums[i] <= pow(10,9) :\n",
    "                return False\n",
    "\n",
    "        if not pow(-10,9) <= target <= pow(10,9) :\n",
    "                return False      \n",
    "\n",
    "\n",
    "        for i in range(0,len(nums)-1) :\n",
    "            for j in range(i+1,len(nums)) :\n",
    "                if nums[i] + nums[j]  == target :\n",
    "                    result.append(i)\n",
    "                    result.append(j)\n",
    "                    break\n",
    "        return result    \n",
    "         \n",
    "Solution().twoSum([2,7,11,15],  9)\n"
   ]
  },
  {
   "cell_type": "code",
   "execution_count": 2,
   "metadata": {},
   "outputs": [
    {
     "data": {
      "text/plain": [
       "[1, 0]"
      ]
     },
     "execution_count": 2,
     "metadata": {},
     "output_type": "execute_result"
    }
   ],
   "source": [
    "#method 2 \n",
    "#this is way faster than first method and it is O(n) using dictionary\n",
    "\n",
    "class Solution(object):   \n",
    "    def twoSum(self , nums , target):\n",
    "        \"\"\"\n",
    "        :type nums: List[int]\n",
    "        :type target: int\n",
    "        :rtype: List[int]\n",
    "        \"\"\"\n",
    "        nums_dict = {}\n",
    "        result = []\n",
    "        \n",
    "        if not 2 <= len(nums) <= pow(10,4) :\n",
    "            return False\n",
    "\n",
    "        for i in range(0,len(nums)) :\n",
    "            if not  pow(-10,9) <= nums[i] <= pow(10,9) :\n",
    "                return False\n",
    "\n",
    "        if not pow(-10,9) <= target <= pow(10,9) :\n",
    "                return False      \n",
    "\n",
    "        #O(n)\n",
    "        for i,num in enumerate(nums) :\n",
    "            complement = target - num \n",
    "\n",
    "            if complement in nums_dict :\n",
    "                result.append(i)\n",
    "                result.append(nums_dict[complement])\n",
    "                return result\n",
    "            \n",
    "            nums_dict[num] = i \n",
    "\n",
    "        return result   \n",
    "\n",
    "Solution().twoSum([2,7,11,15],  9)"
   ]
  },
  {
   "cell_type": "code",
   "execution_count": 7,
   "metadata": {},
   "outputs": [
    {
     "data": {
      "text/plain": [
       "True"
      ]
     },
     "execution_count": 7,
     "metadata": {},
     "output_type": "execute_result"
    }
   ],
   "source": [
    "#Leetcode example 2\n",
    "#method 1\n",
    "#this method using lists and strings\n",
    "\n",
    "class Solution(object):   \n",
    "    def isPalindrome(self, x):\n",
    "        if not pow(-2,31) <= x <= pow(2,31)-1 :\n",
    "            return False\n",
    "        \n",
    "        if x < 0 :\n",
    "            return False\n",
    "        \n",
    "        result = []\n",
    "        x_string = str(x)\n",
    "\n",
    "        for i in x_string :\n",
    "            result.append(i)\n",
    "\n",
    "        return result  == list(reversed(result))\n",
    "    \n",
    "Solution().isPalindrome(121)    \n"
   ]
  },
  {
   "cell_type": "code",
   "execution_count": 8,
   "metadata": {},
   "outputs": [
    {
     "data": {
      "text/plain": [
       "True"
      ]
     },
     "execution_count": 8,
     "metadata": {},
     "output_type": "execute_result"
    }
   ],
   "source": [
    "#method 2\n",
    "#this method using lists only\n",
    "\n",
    "class Solution(object):   \n",
    "    def isPalindrome(self, x):\n",
    "        if not pow(-2,31) <= x <= pow(2,31)-1 :\n",
    "            return False\n",
    "        \n",
    "        if x < 0 :\n",
    "            return False\n",
    "        \n",
    "        result = []\n",
    "        \n",
    "        while(x) :\n",
    "            result.insert(0,x%10)\n",
    "            x //= 10\n",
    "            \n",
    "\n",
    "        return result  == list(reversed(result))\n",
    "    \n",
    "Solution().isPalindrome(121) "
   ]
  },
  {
   "cell_type": "code",
   "execution_count": 6,
   "metadata": {},
   "outputs": [
    {
     "data": {
      "text/plain": [
       "True"
      ]
     },
     "execution_count": 6,
     "metadata": {},
     "output_type": "execute_result"
    }
   ],
   "source": [
    "#method 3\n",
    "#it is the fastest ever with least time and space complexity using strings only\n",
    "\n",
    "class Solution(object):   \n",
    "    def isPalindrome(self, x):\n",
    "        if not pow(-2,31) <= x <= pow(2,31)-1 :\n",
    "            return False\n",
    "        \n",
    "        if x < 0 :\n",
    "            return False\n",
    "        \n",
    "        return str(x) == str(x)[::-1]\n",
    "    \n",
    "Solution().isPalindrome(121)    "
   ]
  },
  {
   "cell_type": "code",
   "execution_count": null,
   "metadata": {},
   "outputs": [],
   "source": [
    "#Leetcode example 3\n"
   ]
  }
 ],
 "metadata": {
  "kernelspec": {
   "display_name": "base",
   "language": "python",
   "name": "python3"
  },
  "language_info": {
   "codemirror_mode": {
    "name": "ipython",
    "version": 3
   },
   "file_extension": ".py",
   "mimetype": "text/x-python",
   "name": "python",
   "nbconvert_exporter": "python",
   "pygments_lexer": "ipython3",
   "version": "3.12.4"
  }
 },
 "nbformat": 4,
 "nbformat_minor": 2
}
